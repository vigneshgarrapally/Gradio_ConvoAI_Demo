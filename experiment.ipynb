{
 "cells": [
  {
   "cell_type": "code",
   "execution_count": 1,
   "metadata": {},
   "outputs": [],
   "source": [
    "from utils import text_to_speech\n",
    "\n",
    "a = text_to_speech(\"Hello World\")"
   ]
  },
  {
   "cell_type": "code",
   "execution_count": 2,
   "metadata": {},
   "outputs": [
    {
     "name": "stdout",
     "output_type": "stream",
     "text": [
      "<class 'bytes'>\n"
     ]
    }
   ],
   "source": [
    "print(type(a))\n"
   ]
  },
  {
   "cell_type": "code",
   "execution_count": 4,
   "metadata": {},
   "outputs": [],
   "source": [
    "from elevenlabs import play\n",
    "\n",
    "play(a)"
   ]
  },
  {
   "cell_type": "code",
   "execution_count": null,
   "metadata": {},
   "outputs": [],
   "source": [
    "import gradio as gr\n",
    "from elevenlabs import play\n",
    "\n",
    "\n",
    "def demo(audio):\n",
    "    print(audio)\n",
    "    return audio, \"Hello World\"\n",
    "\n",
    "\n",
    "function = demo\n",
    "inputs = gr.Audio(source=\"microphone\", type=\"filepath\")\n",
    "outputs = [gr.Audio(type=\"numpy\"), gr.Textbox(lines=3, label=\"Response\")]\n",
    "interface = gr.Interface(\n",
    "    fn=function,\n",
    "    inputs=inputs,\n",
    "    outputs=outputs,\n",
    "    title=\"Conversational AI bot\",\n",
    "    description=\"A conversational AI bot that can speak and listen to you.\",\n",
    ")\n",
    "interface.launch()\n"
   ]
  },
  {
   "cell_type": "code",
   "execution_count": null,
   "metadata": {},
   "outputs": [],
   "source": [
    "import gradio as gr\n",
    "import random\n",
    "import time\n",
    "\n",
    "with gr.Blocks() as demo:\n",
    "    chatbot = gr.Chatbot()\n",
    "    msg = gr.Textbox()\n",
    "    ou = gr.Textbox()\n",
    "    clear = gr.ClearButton([msg, ou, chatbot])\n",
    "\n",
    "    def respond(message, chat_history):\n",
    "        bot_message = random.choice([\"How are you?\", \"I love you\", \"I'm very hungry\"])\n",
    "        chat_history.append((message, bot_message))\n",
    "        return \"\", message, chat_history\n",
    "\n",
    "    msg.submit(respond, [msg, chatbot], [msg, ou, chatbot])\n",
    "\n",
    "demo.launch(debug=True)"
   ]
  }
 ],
 "metadata": {
  "kernelspec": {
   "display_name": "personal",
   "language": "python",
   "name": "python3"
  },
  "language_info": {
   "codemirror_mode": {
    "name": "ipython",
    "version": 3
   },
   "file_extension": ".py",
   "mimetype": "text/x-python",
   "name": "python",
   "nbconvert_exporter": "python",
   "pygments_lexer": "ipython3",
   "version": "3.10.11"
  },
  "orig_nbformat": 4
 },
 "nbformat": 4,
 "nbformat_minor": 2
}
